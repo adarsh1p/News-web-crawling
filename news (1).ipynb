{
 "cells": [
  {
   "cell_type": "code",
   "execution_count": 3,
   "metadata": {},
   "outputs": [
    {
     "name": "stdout",
     "output_type": "stream",
     "text": [
      "enter the type of news you want to read: trending\n",
      "1 Virat Kohli plays for Pakistan in bizarre viral video\n",
      "\n",
      "2 Hero of Mumbai rains: Life in the metro stops for all but traffic cops\n",
      "\n",
      "3 3-yr-old girl asks for milk at bar. Her story is viral \n",
      "\n",
      "4 She was performing on stage. The fireworks killed her\n",
      "\n",
      "5 Venezuelan refugee mom sings on Peru streets while cradling her baby. Internet is in tears \n",
      "\n",
      "6 Shame on IndiGo, say flyers after Delhi flight stays on Mumbai runway for 6 hours\n",
      "\n",
      "7 Lata Mangeshkar could have been more gracious: Fans react to her dig at Ranu Mondal\n",
      "\n"
     ]
    }
   ],
   "source": [
    "import bs4\n",
    "import urllib.request as url\n",
    "path=\"https://www.indiatoday.in/news.html\"\n",
    "http_response=url.urlopen(path)\n",
    "webpage=bs4.BeautifulSoup(http_response,\"lxml\")\n",
    "data=input(\"enter the type of news you want to read: \")\n",
    "if data== \"movies\":\n",
    "    h3=webpage.find('div',id=\"card_1206533_itg-news-section-2\")\n",
    "    news=h3.findAll('p')\n",
    "    for i in range(len(news)):\n",
    "        title=news[i][\"title\"]\n",
    "        print(\"{} {}\".format(i+1,title))\n",
    "        print()\n",
    "elif data==\"sports\":\n",
    "    h3=webpage.find('div',id=\"card_1206550_itg-news-section-4\")\n",
    "    news=h3.findAll('p')\n",
    "    for i in range(len(news)):\n",
    "        title=news[i][\"title\"]\n",
    "        print(\"{} {}\".format(i+1,title))\n",
    "        print()\n",
    "elif data==\"election\":\n",
    "    h3=webpage.find('div',id=\"card_1206719_itg-news-section-3\")\n",
    "    news=h3.findAll('p')\n",
    "    for i in range(len(news)):\n",
    "        title=news[i][\"title\"]\n",
    "        print(\"{} {}\".format(i+1,title))\n",
    "        print()\n",
    "elif data==\"technology\":\n",
    "    h3=webpage.find('div',id=\"card_1206688_itg-news-section-6\")\n",
    "    news=h3.findAll('p')\n",
    "    for i in range(len(news)):\n",
    "        title=news[i][\"title\"]\n",
    "        print(\"{} {}\".format(i+1,title))\n",
    "        print()\n",
    "elif data==\"trending\":\n",
    "    h3=webpage.find('div',id=\"card_1797650_itg-news-section-5\")\n",
    "    news=h3.findAll('p')\n",
    "    for i in range(len(news)):\n",
    "        title=news[i][\"title\"]\n",
    "        print(\"{} {}\".format(i+1,title))\n",
    "        print()\n",
    "else:\n",
    "    print(\"invalid news\")"
   ]
  },
  {
   "cell_type": "code",
   "execution_count": null,
   "metadata": {},
   "outputs": [],
   "source": []
  }
 ],
 "metadata": {
  "kernelspec": {
   "display_name": "Python 3",
   "language": "python",
   "name": "python3"
  },
  "language_info": {
   "codemirror_mode": {
    "name": "ipython",
    "version": 3
   },
   "file_extension": ".py",
   "mimetype": "text/x-python",
   "name": "python",
   "nbconvert_exporter": "python",
   "pygments_lexer": "ipython3",
   "version": "3.7.3"
  }
 },
 "nbformat": 4,
 "nbformat_minor": 2
}
